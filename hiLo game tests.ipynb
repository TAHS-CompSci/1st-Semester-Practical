{
 "cells": [
  {
   "cell_type": "code",
   "execution_count": 17,
   "metadata": {},
   "outputs": [],
   "source": [
    "import random\n",
    "\n",
    "def hiLo(guess):\n",
    "    \n",
    "    random.randint(1, 100)\n",
    "    print('I have a number between 1 and 100, Can you guess what it is?')\n",
    "    \n",
    "    print('That is correct.')\n",
    "    \n",
    "    print('Too high, guess agin.')\n",
    "    \n",
    "    print('Too low, guess again.')\n",
    "    \n",
    "    print('Wpould you like to play again.')\n",
    "    \"\"\"This function runs the entire program.\n",
    "        Once your function is created place it below.\n",
    "        You may need to provide extra code to run your function several times.\"\"\"\n",
    "\n",
    "\n",
    "# Allows the main function to show up in the terminal once script is executed. \n",
    "if __name__ == \"__hiLo__\":\n",
    "    hiLo()\n"
   ]
  },
  {
   "cell_type": "code",
   "execution_count": null,
   "metadata": {},
   "outputs": [],
   "source": []
  }
 ],
 "metadata": {
  "kernelspec": {
   "display_name": "Python 3",
   "language": "python",
   "name": "python3"
  },
  "language_info": {
   "codemirror_mode": {
    "name": "ipython",
    "version": 3
   },
   "file_extension": ".py",
   "mimetype": "text/x-python",
   "name": "python",
   "nbconvert_exporter": "python",
   "pygments_lexer": "ipython3",
   "version": "3.7.4"
  }
 },
 "nbformat": 4,
 "nbformat_minor": 2
}
