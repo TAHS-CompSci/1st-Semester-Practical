{
 "cells": [
  {
   "cell_type": "code",
   "execution_count": 5,
   "metadata": {},
   "outputs": [],
   "source": [
    "import random\n",
    "\n",
    "def hiLo(guess,number):         # X is the variable used for the random number selected by the program.\n",
    "    random.randint(1, 100) == number\n",
    "    guess == input([str])\n",
    "    completing = true \n",
    "    while completing:\n",
    "        guess = int(input('I have a number between 1 and 100, Can you guess what it is?'))\n",
    "        if guess == number:\n",
    "            print ('That is correct')\n",
    "        if guess > number:\n",
    "            print ('Too High, Guess again.')\n",
    "        if guess < number:\n",
    "            print ('Too Low, guess again.')\n",
    "\n",
    "    \n",
    "    \n",
    "    \n",
    "    \n",
    "   \n",
    "   \n",
    "  \n",
    "  \n",
    "  "
   ]
  },
  {
   "cell_type": "code",
   "execution_count": null,
   "metadata": {},
   "outputs": [],
   "source": []
  }
 ],
 "metadata": {
  "kernelspec": {
   "display_name": "Python 3",
   "language": "python",
   "name": "python3"
  },
  "language_info": {
   "codemirror_mode": {
    "name": "ipython",
    "version": 3
   },
   "file_extension": ".py",
   "mimetype": "text/x-python",
   "name": "python",
   "nbconvert_exporter": "python",
   "pygments_lexer": "ipython3",
   "version": "3.7.4"
  }
 },
 "nbformat": 4,
 "nbformat_minor": 2
}
