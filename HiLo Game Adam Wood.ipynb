{
 "cells": [
  {
   "cell_type": "code",
   "execution_count": 48,
   "metadata": {},
   "outputs": [
    {
     "name": "stdout",
     "output_type": "stream",
     "text": [
      "guess my number it is 1 through 10\n",
      "your guess of 3 was correct\n"
     ]
    }
   ],
   "source": [
    "\"\"\"\n",
    "Hilo game.py\n",
    "Programmer: Adam Wood\n",
    "Guess the number and see if its to low or too high\n",
    "\"\"\"\n",
    "import random \n",
    "print('guess my number it is 1 through 10')\n",
    "def HiLo(input):\n",
    "    number = random.randint(1,10)\n",
    "    if input == number: \n",
    "        print('your guess of', input,'was correct')\n",
    "    else:\n",
    "        if input > number:\n",
    "            print('your number', input,'was too high it was', number)\n",
    "        if input < number:\n",
    "            print('your number', input,'was too low it was', number)\n",
    "HiLo(3)"
   ]
  },
  {
   "cell_type": "raw",
   "metadata": {},
   "source": []
  },
  {
   "cell_type": "code",
   "execution_count": null,
   "metadata": {},
   "outputs": [],
   "source": []
  }
 ],
 "metadata": {
  "kernelspec": {
   "display_name": "Python 3",
   "language": "python",
   "name": "python3"
  },
  "language_info": {
   "codemirror_mode": {
    "name": "ipython",
    "version": 3
   },
   "file_extension": ".py",
   "mimetype": "text/x-python",
   "name": "python",
   "nbconvert_exporter": "python",
   "pygments_lexer": "ipython3",
   "version": "3.7.4"
  }
 },
 "nbformat": 4,
 "nbformat_minor": 2
}
