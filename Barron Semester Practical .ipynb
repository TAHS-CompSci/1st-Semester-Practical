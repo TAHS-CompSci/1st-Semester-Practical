{
 "cells": [
  {
   "cell_type": "code",
   "execution_count": 7,
   "metadata": {},
   "outputs": [
    {
     "name": "stdout",
     "output_type": "stream",
     "text": [
      "1\n",
      "guess a number from 1-100: 1\n",
      "winner!, want to play again?\n",
      "Would you like to play again\n",
      "Yes or No: Yes\n",
      "98\n",
      "guess a number from 1-100: 1\n",
      "guess too low!\n",
      "guess a number from 1-100: 1\n",
      "guess too low!\n",
      "guess a number from 1-100: 1\n",
      "guess too low!\n",
      "guess a number from 1-100: 1\n",
      "guess too low!\n",
      "guess a number from 1-100: 1\n",
      "guess too low!\n",
      "guess a number from 1-100: 1\n",
      "guess too low!\n",
      "guess a number from 1-100: 1\n",
      "guess too low!\n",
      "guess a number from 1-100: 1\n",
      "guess too low!\n",
      "guess a number from 1-100: 1\n",
      "guess too low!\n",
      "guess a number from 1-100: 1\n",
      "You Lose\n",
      "Would you like to play again\n",
      "Yes or No: No\n"
     ]
    }
   ],
   "source": [
    "import random \n",
    "\n",
    "def hiLo_game(): \n",
    "    x = random.randint(1, 100)   \n",
    "    tries = 1\n",
    "    print(x)\n",
    "    booli = True\n",
    "    guess = int(input ('guess a number from 1-100: '))\n",
    "    while booli == True:\n",
    "        if guess < x: \n",
    "            print(\"guess too low!\")\n",
    "            tries += 1\n",
    "            guess = int(input ('guess a number from 1-100: '))\n",
    "        if guess > x: \n",
    "            print(\"guess too high!\") \n",
    "            tries =+ 1\n",
    "            guess = int(input ('guess a number from 1-100: '))\n",
    "        if guess == x: \n",
    "            print (\"winner!, want to play again?\") \n",
    "            tries += 1\n",
    "            booli = False\n",
    "        if tries == 10:\n",
    "            print(\"You Lose\")\n",
    "            booli = False\n",
    "    print(\"Would you like to play again\")\n",
    "    answer = input (\"Yes or No: \")    \n",
    "    if answer == \"Yes\":\n",
    "        hiLo_game()\n",
    "    if answer == \"No\":\n",
    "        return\n",
    "    \n",
    "hiLo_game() \n",
    "      "
   ]
  },
  {
   "cell_type": "code",
   "execution_count": null,
   "metadata": {},
   "outputs": [],
   "source": []
  }
 ],
 "metadata": {
  "kernelspec": {
   "display_name": "Python 3",
   "language": "python",
   "name": "python3"
  },
  "language_info": {
   "codemirror_mode": {
    "name": "ipython",
    "version": 3
   },
   "file_extension": ".py",
   "mimetype": "text/x-python",
   "name": "python",
   "nbconvert_exporter": "python",
   "pygments_lexer": "ipython3",
   "version": "3.7.4"
  }
 },
 "nbformat": 4,
 "nbformat_minor": 2
}
