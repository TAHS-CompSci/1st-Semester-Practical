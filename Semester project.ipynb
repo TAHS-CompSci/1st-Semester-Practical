{
 "cells": [
  {
   "cell_type": "code",
   "execution_count": null,
   "metadata": {},
   "outputs": [],
   "source": [
    "import random\n",
    "\n",
    "def hiLo():\n",
    "    target = random.randint(1,100)\n",
    "    tries = 10\n",
    "    guesses = True\n",
    "    while guesses:\n",
    "        guess = int(input(\"Guess a number between 1 and 100. \"))\n",
    "        if guess == target:\n",
    "            print('tries: ',tries,)\n",
    "            guesses = False\n",
    "            options = input('you guessed it, do you wish to play again? ')\n",
    "            if options == 'yes':\n",
    "                print('great')\n",
    "                hiLo()\n",
    "            if options == 'no':\n",
    "                print('ok')\n",
    "                break\n",
    "        if guess < target:\n",
    "            tries-=1\n",
    "            print(\"Higher!\")\n",
    "            print('tries: ',tries,)\n",
    "            if tries == 0:\n",
    "                print('game over')\n",
    "                guesses = False\n",
    "                option = input('do you wish to play again: ')\n",
    "                if option== 'yes':\n",
    "                    print('great')\n",
    "                    hiLo()\n",
    "                if option == 'no':\n",
    "                    print('ok')\n",
    "                    break\n",
    "        if guess > target:\n",
    "            tries-=1\n",
    "            print(\"Lower!\")\n",
    "            print('tries: ',tries,)\n",
    "            if tries ==0:\n",
    "                print('game over')\n",
    "                guesses = False\n",
    "                option = input('do you wish to play again: ')\n",
    "                if option== 'yes':\n",
    "                    print('great')\n",
    "                    hiLo()\n",
    "                if option == 'no':\n",
    "                    print('ok')\n",
    "                    break\n"
   ]
  },
  {
   "cell_type": "code",
   "execution_count": null,
   "metadata": {},
   "outputs": [],
   "source": [
    "hiLo()"
   ]
  },
  {
   "cell_type": "code",
   "execution_count": null,
   "metadata": {},
   "outputs": [],
   "source": []
  }
 ],
 "metadata": {
  "celltoolbar": "Tags",
  "kernelspec": {
   "display_name": "Python 3",
   "language": "python",
   "name": "python3"
  },
  "language_info": {
   "codemirror_mode": {
    "name": "ipython",
    "version": 3
   },
   "file_extension": ".py",
   "mimetype": "text/x-python",
   "name": "python",
   "nbconvert_exporter": "python",
   "pygments_lexer": "ipython3",
   "version": "3.7.4"
  }
 },
 "nbformat": 4,
 "nbformat_minor": 2
}
