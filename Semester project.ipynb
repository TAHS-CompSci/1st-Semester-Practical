{
 "cells": [
  {
   "cell_type": "code",
   "execution_count": null,
   "metadata": {},
   "outputs": [],
   "source": [
    "import random\n",
    "\n",
    "def HiLoGame():\n",
    "    target = random.randint(1,100)\n",
    "    running = True\n",
    "    while running:\n",
    "        guess = int(input(\"Guess a number between 1 and 100. \"))\n",
    "        if guess == target:\n",
    "            running = False\n",
    "            again = input(\"Correct! would you like to play again? (yes/no) \") \n",
    "            if again ==\"yes\" or \"Yes\":\n",
    "                HiLoGame()\n",
    "            if again ==\"no\" or \"No\":\n",
    "                print(\"Thanks for playing!\")\n",
    "                break\n",
    "        if guess < target:\n",
    "            print(\"Higher!\")\n",
    "        if guess > target:\n",
    "            print(\"Lower!\")\n",
    "try:\n",
    "    HiLoGame()\n",
    "except:\n",
    "        print(\"That is not a number!\")"
   ]
  },
  {
   "cell_type": "code",
   "execution_count": null,
   "metadata": {},
   "outputs": [],
   "source": []
  }
 ],
 "metadata": {
  "kernelspec": {
   "display_name": "Python 3",
   "language": "python",
   "name": "python3"
  },
  "language_info": {
   "codemirror_mode": {
    "name": "ipython",
    "version": 3
   },
   "file_extension": ".py",
   "mimetype": "text/x-python",
   "name": "python",
   "nbconvert_exporter": "python",
   "pygments_lexer": "ipython3",
   "version": "3.7.4"
  }
 },
 "nbformat": 4,
 "nbformat_minor": 2
}
