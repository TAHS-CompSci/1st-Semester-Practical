{
 "cells": [
  {
   "cell_type": "code",
   "execution_count": 2,
   "metadata": {},
   "outputs": [],
   "source": [
    "import random\n",
    "\n",
    "def hiLo_game():         # X is the variable used for the random number selected by the program.\n",
    "    number = random.randint(1, 100) \n",
    "    running = True \n",
    "    while running:\n",
    "        guess = int(input('I have a number between 1 and 100, Can you guess what it is:'))\n",
    "        \n",
    "        if guess == number:\n",
    "            print ('That is correct')\n",
    "        if guess > number:\n",
    "            print ('Too High, Guess again.')\n",
    "        if guess < number:\n",
    "            print ('Too Low, guess again.')\n",
    "        "
   ]
  },
  {
   "cell_type": "code",
   "execution_count": null,
   "metadata": {},
   "outputs": [
    {
     "name": "stdout",
     "output_type": "stream",
     "text": [
      "I have a number between 1 and 100, Can you guess what it is:6\n",
      "Too Low, guess again.\n",
      "I have a number between 1 and 100, Can you guess what it is:5\n",
      "Too Low, guess again.\n",
      "I have a number between 1 and 100, Can you guess what it is:89\n",
      "Too High, Guess again.\n",
      "I have a number between 1 and 100, Can you guess what it is:67\n",
      "Too High, Guess again.\n",
      "I have a number between 1 and 100, Can you guess what it is:34\n",
      "Too High, Guess again.\n",
      "I have a number between 1 and 100, Can you guess what it is:22\n",
      "Too High, Guess again.\n",
      "I have a number between 1 and 100, Can you guess what it is:12\n",
      "Too High, Guess again.\n",
      "I have a number between 1 and 100, Can you guess what it is:9\n",
      "Too Low, guess again.\n",
      "I have a number between 1 and 100, Can you guess what it is:10\n",
      "That is correct\n"
     ]
    }
   ],
   "source": [
    "hiLo_game()"
   ]
  },
  {
   "cell_type": "code",
   "execution_count": null,
   "metadata": {},
   "outputs": [],
   "source": []
  }
 ],
 "metadata": {
  "kernelspec": {
   "display_name": "Python 3",
   "language": "python",
   "name": "python3"
  },
  "language_info": {
   "codemirror_mode": {
    "name": "ipython",
    "version": 3
   },
   "file_extension": ".py",
   "mimetype": "text/x-python",
   "name": "python",
   "nbconvert_exporter": "python",
   "pygments_lexer": "ipython3",
   "version": "3.7.4"
  }
 },
 "nbformat": 4,
 "nbformat_minor": 2
}
