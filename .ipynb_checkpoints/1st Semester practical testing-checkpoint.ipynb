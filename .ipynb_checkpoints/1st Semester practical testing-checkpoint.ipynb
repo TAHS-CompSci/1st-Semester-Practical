{
 "cells": [
  {
   "cell_type": "code",
   "execution_count": null,
   "metadata": {},
   "outputs": [
    {
     "name": "stdout",
     "output_type": "stream",
     "text": [
      "Im thinking of a number from 1 to 100 can you guess it\n",
      "2\n",
      "To low, you have  9 trys left\n",
      "To low, you have  8 trys left\n",
      "To low, you have  7 trys left\n",
      "To low, you have  6 trys left\n",
      "To low, you have  5 trys left\n",
      "To low, you have  4 trys left\n",
      "To low, you have  3 trys left\n",
      "To low, you have  2 trys left\n",
      "One more guess\n"
     ]
    }
   ],
   "source": [
    "import random\n",
    "\n",
    "def hiLo(): # Number guess game\n",
    "    print('Im thinking of a number from 1 to 100 can you guess it') # Start text\n",
    "    answer = random.randint(1,100) # Number for game\n",
    "    try_left = 10 # Helps Player with game, as well as \n",
    "    guess = int(input())\n",
    "    loop = False\n",
    "    while loop != True:\n",
    "        if guess > answer:\n",
    "            try_left -= 1\n",
    "            if try_left == 1:\n",
    "                print('One more guess')\n",
    "                guess = int(input())\n",
    "                if guess != answer:\n",
    "                    print('game over')\n",
    "                    loop =True\n",
    "                else:\n",
    "                    print('Correct')\n",
    "                    loop = True\n",
    "            else:\n",
    "                print('To high, you have ', try_left, 'trys left')\n",
    "                guess = int(input())\n",
    "        if guess < answer:\n",
    "            try_left -= 1\n",
    "            if try_left == 1:\n",
    "                print('One more guess')\n",
    "                guess = int(input())\n",
    "                if guess != answer:\n",
    "                    print('game over')\n",
    "                    loop =True\n",
    "                else:\n",
    "                    print('Correct')\n",
    "                    loop = True\n",
    "            else:\n",
    "                print('To low, you have ', try_left, 'trys left')\n",
    "    print('Would you like to Play again y or n')\n",
    "    game_define = input()\n",
    "    if game_define == 'y':\n",
    "        hiLo()\n",
    "    if game_define == 'n':\n",
    "        return\n",
    "\n",
    "hiLo()"
   ]
  },
  {
   "cell_type": "code",
   "execution_count": null,
   "metadata": {},
   "outputs": [],
   "source": []
  }
 ],
 "metadata": {
  "kernelspec": {
   "display_name": "Python 3",
   "language": "python",
   "name": "python3"
  },
  "language_info": {
   "codemirror_mode": {
    "name": "ipython",
    "version": 3
   },
   "file_extension": ".py",
   "mimetype": "text/x-python",
   "name": "python",
   "nbconvert_exporter": "python",
   "pygments_lexer": "ipython3",
   "version": "3.7.4"
  }
 },
 "nbformat": 4,
 "nbformat_minor": 2
}
