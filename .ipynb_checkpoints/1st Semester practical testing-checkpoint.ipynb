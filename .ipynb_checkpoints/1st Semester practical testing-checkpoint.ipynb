{
 "cells": [
  {
   "cell_type": "code",
   "execution_count": 2,
   "metadata": {},
   "outputs": [
    {
     "name": "stdout",
     "output_type": "stream",
     "text": [
      "I am thinking of a number from 1 to 100, can you guess what it is\n",
      "50\n",
      "Your guess is to high, you have 9 tries left\n",
      "20\n",
      "Your guess is to high, you have 8 tries left\n",
      "10\n",
      "Your guess is to low, you have 7 tries left\n",
      "15\n",
      "Your guess is to high, you have 6 tries left\n",
      "13\n",
      "Your guess is to high, you have 5 tries left\n",
      "12\n",
      "Your guess is to high, you have 4 tries left\n",
      "11\n",
      "That took you 7 tries\n",
      "Would you like to play again, y or n\n",
      "y\n",
      "I am thinking of a number from 1 to 100, can you guess what it is\n",
      "1\n",
      "Your guess is to low, you have 9 tries left\n",
      "1\n",
      "Your guess is to low, you have 8 tries left\n",
      "1\n",
      "Your guess is to low, you have 7 tries left\n",
      "1\n",
      "Your guess is to low, you have 6 tries left\n",
      "1\n",
      "Your guess is to low, you have 5 tries left\n",
      "1\n",
      "Your guess is to low, you have 4 tries left\n",
      "1\n",
      "Your guess is to low, you have 3 tries left\n",
      "1\n",
      "Your guess is to low, you have 2 tries left\n",
      "1\n",
      "Your guess is to low, you have 1 tries left\n",
      "1\n",
      "GAME OVER\n",
      "Would you like to play again, y or n\n",
      "n\n"
     ]
    }
   ],
   "source": [
    "import random\n",
    "\n",
    "def hiLo():\n",
    "    '''Creates an integer from 1 to 100 that you must guess within 10 tries'''\n",
    "    ans = random.randint(1,100) # Random Number Generator\n",
    "    try_left = 10 # used for text, tells you how many tries are left\n",
    "    loop = False # Runs game till you win\n",
    "    print(\"I am thinking of a number from 1 to 100, can you guess what it is\") # Instructions\n",
    "    guess = int(input()) # Players guess\n",
    "    while loop == False: # Runs game\n",
    "        if guess != ans: #  Lowers tries left\n",
    "            try_left -= 1\n",
    "        if try_left == 1: # Ends game after all tries used\n",
    "            loop = True\n",
    "        if guess == ans: # Ends game after you win\n",
    "            print(\"That took you\", 11 - try_left, \"tries\") # tells you how many tries used\n",
    "            loop = True\n",
    "        elif guess >= ans: # tells you your either to high or low\n",
    "            print(\"Your guess is to high, you have\", try_left, \"tries left\")\n",
    "            guess = int(input())\n",
    "        elif guess <= ans:\n",
    "            print(\"Your guess is to low, you have\", try_left, \"tries left\")\n",
    "            guess = int(input())\n",
    "    if try_left == 1: # Game over if you lose\n",
    "        print(\"GAME OVER\")\n",
    "    print(\"Would you like to play again, y or n\") # instructions\n",
    "    end = input() # Ending choice\n",
    "    if end == \"y\": # If they type y they play again\n",
    "        hiLo()\n",
    "    else: # Ends the whole game\n",
    "        return\n",
    "\n",
    "hiLo()"
   ]
  },
  {
   "cell_type": "code",
   "execution_count": null,
   "metadata": {},
   "outputs": [],
   "source": []
  }
 ],
 "metadata": {
  "kernelspec": {
   "display_name": "Python 3",
   "language": "python",
   "name": "python3"
  },
  "language_info": {
   "codemirror_mode": {
    "name": "ipython",
    "version": 3
   },
   "file_extension": ".py",
   "mimetype": "text/x-python",
   "name": "python",
   "nbconvert_exporter": "python",
   "pygments_lexer": "ipython3",
   "version": "3.7.4"
  }
 },
 "nbformat": 4,
 "nbformat_minor": 2
}
