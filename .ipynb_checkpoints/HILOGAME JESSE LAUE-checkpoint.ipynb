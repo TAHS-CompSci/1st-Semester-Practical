{
 "cells": [
  {
   "cell_type": "code",
   "execution_count": null,
   "metadata": {},
   "outputs": [],
   "source": [
    "\"\"\" \n",
    "HiLo_Game \n",
    "Jesse Laue\n",
    "1-100 Guessing game \n",
    "\"\"\""
   ]
  },
  {
   "cell_type": "code",
   "execution_count": null,
   "metadata": {},
   "outputs": [],
   "source": [
    "#Questions"
   ]
  },
  {
   "cell_type": "code",
   "execution_count": null,
   "metadata": {},
   "outputs": [],
   "source": [
    "#Coding Below"
   ]
  },
  {
   "cell_type": "code",
   "execution_count": 3,
   "metadata": {
    "scrolled": true
   },
   "outputs": [
    {
     "name": "stdout",
     "output_type": "stream",
     "text": [
      "I am thinking of a number between 1 and 100.\n",
      "You have 10 tries before you lose.\n",
      "Guess a number between 1 and 100: 1\n",
      "Guess was lower than actual answer\n",
      "Guess a number between 1 and 100: 1\n",
      "Guess was lower than actual answer\n",
      "Guess a number between 1 and 100: 1\n",
      "Guess was lower than actual answer\n",
      "Guess a number between 1 and 100: 1\n",
      "Guess was lower than actual answer\n",
      "Guess a number between 1 and 100: 1\n",
      "Guess was lower than actual answer\n",
      "Guess a number between 1 and 100: 1\n",
      "Guess was lower than actual answer\n",
      "Guess a number between 1 and 100: 1\n",
      "Guess was lower than actual answer\n",
      "Guess a number between 1 and 100: 1\n",
      "Guess was lower than actual answer\n",
      "Guess a number between 1 and 100: 1\n",
      "Guess was lower than actual answer\n",
      "Guess a number between 1 and 100: 1\n",
      " Im sorry, you have lost, would you like to play again?\n",
      " The number was... 22\n",
      "Yes or No: 1\n"
     ]
    }
   ],
   "source": [
    "import random\n",
    "\n",
    "def hiLo():\n",
    "    x = random.randint(1, 100)\n",
    "    tries = 9\n",
    "    guess = 0\n",
    "    loop = True\n",
    "    print (\"I am thinking of a number between 1 and 100.\")\n",
    "    print (\"You have 10 tries before you lose.\")\n",
    "    guess = int(input(\"Guess a number between 1 and 100: \"))\n",
    "    while loop:\n",
    "        if guess > x:\n",
    "            print (\"Guess was higher than actual answer\")\n",
    "            guess = int(input(\"Guess a number between 1 and 100: \"))\n",
    "            tries -= 1\n",
    "        elif guess < x:\n",
    "            print (\"Guess was lower than actual answer\")\n",
    "            guess = int(input(\"Guess a number between 1 and 100: \"))\n",
    "            tries -= 1\n",
    "        if tries == 0:\n",
    "            print (\" Im sorry, you have lost, would you like to play again?\")\n",
    "            print (\" The number was...\", x)\n",
    "            loop = False\n",
    "        if guess == x:\n",
    "            print(\"YOU WIN, Would you like to play again\")\n",
    "            tries -= 1\n",
    "            loop = False\n",
    "    answer = input('Yes or No: ')\n",
    "    if answer == \"Yes\":\n",
    "        hiLo()\n",
    "    if answer == \"No\":\n",
    "        return\n",
    "        \n",
    "hiLo()"
   ]
  },
  {
   "cell_type": "markdown",
   "metadata": {},
   "source": []
  },
  {
   "cell_type": "code",
   "execution_count": null,
   "metadata": {},
   "outputs": [],
   "source": []
  }
 ],
 "metadata": {
  "kernelspec": {
   "display_name": "Python 3",
   "language": "python",
   "name": "python3"
  },
  "language_info": {
   "codemirror_mode": {
    "name": "ipython",
    "version": 3
   },
   "file_extension": ".py",
   "mimetype": "text/x-python",
   "name": "python",
   "nbconvert_exporter": "python",
   "pygments_lexer": "ipython3",
   "version": "3.7.4"
  }
 },
 "nbformat": 4,
 "nbformat_minor": 2
}
