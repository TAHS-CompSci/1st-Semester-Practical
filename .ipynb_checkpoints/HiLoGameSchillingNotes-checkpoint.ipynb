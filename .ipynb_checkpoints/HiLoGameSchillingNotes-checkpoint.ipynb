{
 "cells": [
  {
   "cell_type": "code",
   "execution_count": null,
   "metadata": {},
   "outputs": [],
   "source": [
    "import random\n",
    "\n",
    "def HiLoGame():\n",
    "    target = random.randint(1,100)\n",
    "    running = True\n",
    "    while running:\n",
    "        guess = int(input(\"Guess any number between 1 thru 100. \"))\n",
    "        if guess == target:\n",
    "            running = False\n",
    "            again = input(\"Correct! would you like to play again? (yes or no) \")\n",
    "            if again == \"yes\" or \"Yes\":\n",
    "                HiLoGame()\n",
    "            if again == \"no\" or \"No\":\n",
    "                print(\"game over.\")\n",
    "                break\n",
    "        if guess < target:\n",
    "            print(\"higher\")\n",
    "        if guess > target:\n",
    "            print(\"lower\")\n",
    "try:\n",
    "    HiLoGame()\n",
    "except:\n",
    "        print(\"not a number\")\n",
    "        HiLoGame()"
   ]
  }
 ],
 "metadata": {
  "kernelspec": {
   "display_name": "Python 3",
   "language": "python",
   "name": "python3"
  },
  "language_info": {
   "codemirror_mode": {
    "name": "ipython",
    "version": 3
   },
   "file_extension": ".py",
   "mimetype": "text/x-python",
   "name": "python",
   "nbconvert_exporter": "python",
   "pygments_lexer": "ipython3",
   "version": "3.7.4"
  }
 },
 "nbformat": 4,
 "nbformat_minor": 2
}
