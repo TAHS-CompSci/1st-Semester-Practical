{
 "cells": [
  {
   "cell_type": "code",
   "execution_count": 11,
   "metadata": {},
   "outputs": [],
   "source": [
    "import random\n",
    "\n",
    "def hiLo():\n",
    "    target = random.randint(1,100)\n",
    "    tries = 10\n",
    "    guesses = True\n",
    "    while guesses:\n",
    "        guess = int(input(\"Guess a number between 1 and 100. \"))\n",
    "        if guess == target:\n",
    "            print('tries: ',tries,)\n",
    "            guesses = False\n",
    "            options = input('you guessed it, do you wish to play again')\n",
    "            if options == 'yes':\n",
    "                print('great')\n",
    "                hiLo()\n",
    "            if options == 'no':\n",
    "                print('ok')\n",
    "                break\n",
    "        if guess < target:\n",
    "            tries-=1\n",
    "            print(\"Higher!\")\n",
    "            print('tries: ',tries,)\n",
    "            if tries == 0:\n",
    "                print('game over')\n",
    "                guesses = False\n",
    "                option = input('do you wish to play again: ')\n",
    "                if option== 'yes':\n",
    "                    print('great')\n",
    "                    hiLo()\n",
    "                if option == 'no':\n",
    "                    print('ok')\n",
    "                    break\n",
    "        if guess > target:\n",
    "            tries-=1\n",
    "            print(\"Lower!\")\n",
    "            print('tries: ',tries,)\n",
    "            if tries ==0:\n",
    "                print('game over')\n",
    "                guesses = False\n",
    "                option = input('do you wish to play again: ')\n",
    "                if option== 'yes':\n",
    "                    print('great')\n",
    "                    hiLo()\n",
    "                if option == 'no':\n",
    "                    print('ok')\n",
    "                    break\n",
    "\n"
   ]
  },
  {
   "cell_type": "code",
   "execution_count": 12,
   "metadata": {},
   "outputs": [
    {
     "name": "stdout",
     "output_type": "stream",
     "text": [
      "Guess any number between 1 thru 100. 80\n",
      "Lower\n",
      "tries:  9\n",
      "Guess any number between 1 thru 100. 70\n",
      "Lower\n",
      "tries:  8\n",
      "Guess any number between 1 thru 100. 60\n",
      "Higher!\n",
      "tries:  7\n",
      "Guess any number between 1 thru 100. 74\n",
      "Lower\n",
      "tries:  6\n",
      "Guess any number between 1 thru 100. 67\n",
      "Higher!\n",
      "tries:  5\n",
      "Guess any number between 1 thru 100. 68\n",
      "Correct!, do you wish to play again\n",
      "tries:  5\n",
      "Guess any number between 1 thru 100. yes\n"
     ]
    },
    {
     "ename": "ValueError",
     "evalue": "invalid literal for int() with base 10: 'yes'",
     "output_type": "error",
     "traceback": [
      "\u001b[1;31m---------------------------------------------------------------------------\u001b[0m",
      "\u001b[1;31mValueError\u001b[0m                                Traceback (most recent call last)",
      "\u001b[1;32m<ipython-input-12-f291a68df2b3>\u001b[0m in \u001b[0;36m<module>\u001b[1;34m\u001b[0m\n\u001b[1;32m----> 1\u001b[1;33m \u001b[0mHiLo\u001b[0m\u001b[1;33m(\u001b[0m\u001b[1;33m)\u001b[0m\u001b[1;33m\u001b[0m\u001b[1;33m\u001b[0m\u001b[0m\n\u001b[0m",
      "\u001b[1;32m<ipython-input-4-4d89096d7d00>\u001b[0m in \u001b[0;36mHiLo\u001b[1;34m()\u001b[0m\n\u001b[0;32m      6\u001b[0m     \u001b[0mguesses\u001b[0m \u001b[1;33m=\u001b[0m \u001b[1;32mTrue\u001b[0m\u001b[1;33m\u001b[0m\u001b[1;33m\u001b[0m\u001b[0m\n\u001b[0;32m      7\u001b[0m     \u001b[1;32mwhile\u001b[0m \u001b[0mguesses\u001b[0m\u001b[1;33m:\u001b[0m\u001b[1;33m\u001b[0m\u001b[1;33m\u001b[0m\u001b[0m\n\u001b[1;32m----> 8\u001b[1;33m         \u001b[0mguess\u001b[0m \u001b[1;33m=\u001b[0m \u001b[0mint\u001b[0m\u001b[1;33m(\u001b[0m\u001b[0minput\u001b[0m\u001b[1;33m(\u001b[0m\u001b[1;34m\"Guess any number between 1 thru 100. \"\u001b[0m\u001b[1;33m)\u001b[0m\u001b[1;33m)\u001b[0m\u001b[1;33m\u001b[0m\u001b[1;33m\u001b[0m\u001b[0m\n\u001b[0m\u001b[0;32m      9\u001b[0m         \u001b[1;32mif\u001b[0m \u001b[0mguess\u001b[0m \u001b[1;33m==\u001b[0m \u001b[0mtarget\u001b[0m\u001b[1;33m:\u001b[0m\u001b[1;33m\u001b[0m\u001b[1;33m\u001b[0m\u001b[0m\n\u001b[0;32m     10\u001b[0m             \u001b[0mprint\u001b[0m\u001b[1;33m(\u001b[0m\u001b[1;34m'Correct!, do you wish to play again'\u001b[0m\u001b[1;33m)\u001b[0m\u001b[1;33m\u001b[0m\u001b[1;33m\u001b[0m\u001b[0m\n",
      "\u001b[1;31mValueError\u001b[0m: invalid literal for int() with base 10: 'yes'"
     ]
    }
   ],
   "source": [
    "HiLo()"
   ]
  },
  {
   "cell_type": "code",
   "execution_count": null,
   "metadata": {},
   "outputs": [],
   "source": []
  }
 ],
 "metadata": {
  "kernelspec": {
   "display_name": "Python 3",
   "language": "python",
   "name": "python3"
  }
 },
 "nbformat": 4,
 "nbformat_minor": 2
}
