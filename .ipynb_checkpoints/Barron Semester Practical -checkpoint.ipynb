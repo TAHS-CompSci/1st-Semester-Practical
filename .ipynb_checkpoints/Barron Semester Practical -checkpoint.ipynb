{
 "cells": [
  {
   "cell_type": "code",
   "execution_count": 9,
   "metadata": {},
   "outputs": [
    {
     "ename": "SyntaxError",
     "evalue": "invalid syntax (<ipython-input-9-fe4d9662811f>, line 1)",
     "output_type": "error",
     "traceback": [
      "\u001b[1;36m  File \u001b[1;32m\"<ipython-input-9-fe4d9662811f>\"\u001b[1;36m, line \u001b[1;32m1\u001b[0m\n\u001b[1;33m    def hiLo_game(number)\u001b[0m\n\u001b[1;37m                         ^\u001b[0m\n\u001b[1;31mSyntaxError\u001b[0m\u001b[1;31m:\u001b[0m invalid syntax\n"
     ]
    }
   ],
   "source": [
    "import random \n",
    "\n",
    "def hiLo_game(): \n",
    "x = int(input(random.randint(1, 100)))      \n",
    "\n",
    "print (\"I am going to guess a number between 1-100. What is my number?\")\n",
    "input (guess a number from 1-100) \n",
    " \n",
    "if guess is < x \n",
    "print(\"guess too low!\")\n",
    "\n",
    "if guess is > x \n",
    "print(\"guess too high!) \n",
    "\n",
    "if guess == x\n",
    "print (\"winner!, want to play again?\") \n",
    "input (\"Yes or No\") \n",
    "\n",
    "guess = int(input(\"guess number\")) \n",
    "      \n",
    "      \n",
    "      \n",
    "      "
   ]
  },
  {
   "cell_type": "code",
   "execution_count": null,
   "metadata": {},
   "outputs": [],
   "source": []
  }
 ],
 "metadata": {
  "kernelspec": {
   "display_name": "Python 3",
   "language": "python",
   "name": "python3"
  },
  "language_info": {
   "codemirror_mode": {
    "name": "ipython",
    "version": 3
   },
   "file_extension": ".py",
   "mimetype": "text/x-python",
   "name": "python",
   "nbconvert_exporter": "python",
   "pygments_lexer": "ipython3",
   "version": "3.7.4"
  }
 },
 "nbformat": 4,
 "nbformat_minor": 2
}
