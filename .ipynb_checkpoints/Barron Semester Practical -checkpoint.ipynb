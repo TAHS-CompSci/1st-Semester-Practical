{
 "cells": [
  {
   "cell_type": "code",
   "execution_count": 3,
   "metadata": {},
   "outputs": [],
   "source": [
    "import random \n",
    "\n",
    "def hiLo_game(guess): \n",
    "    x = random.randint(1, 100)    \n",
    "\n",
    "    input ('guess a number from 1-100') \n",
    " \n",
    "    if guess < x: \n",
    "        print(\"guess too low!\")\n",
    "\n",
    "    if guess > x: \n",
    "        print(\"guess too high!\") \n",
    "\n",
    "    if guess == x:\n",
    "        print (\"winner!, want to play again?\") \n",
    "        input (\"Yes or No\") \n",
    "\n",
    "    print (\"you have 10 tries\") \n",
    "      \n",
    "    while guess != x and tries < 6:  \n",
    "        tries= tries + 1 \n",
    "      \n",
    "    \n",
    "\n",
    "      "
   ]
  }
 ],
 "metadata": {
  "kernelspec": {
   "display_name": "Python 3",
   "language": "python",
   "name": "python3"
  },
  "language_info": {
   "codemirror_mode": {
    "name": "ipython",
    "version": 3
   },
   "file_extension": ".py",
   "mimetype": "text/x-python",
   "name": "python",
   "nbconvert_exporter": "python",
   "pygments_lexer": "ipython3",
   "version": "3.7.4"
  }
 },
 "nbformat": 4,
 "nbformat_minor": 2
}
