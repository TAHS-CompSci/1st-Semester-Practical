{
 "cells": [
  {
   "cell_type": "code",
   "execution_count": 1,
   "metadata": {},
   "outputs": [
    {
     "data": {
      "text/plain": [
       "'\\nprojectName.py\\nProgrammer: Viola DeMott\\nSemester practical\\n'"
      ]
     },
     "execution_count": 1,
     "metadata": {},
     "output_type": "execute_result"
    }
   ],
   "source": [
    "\"\"\"\n",
    "projectName.py\n",
    "Programmer: Viola DeMott\n",
    "Semester practical\n",
    "\"\"\""
   ]
  },
  {
   "cell_type": "code",
   "execution_count": 6,
   "metadata": {},
   "outputs": [],
   "source": [
    "import random\n",
    "guesses=0\n",
    "while guesses>10:\n",
    "    guesses = guesses+1\n",
    "    \n",
    "def hilow_game():\n",
    "    number = random.randint(1,100)\n",
    "    running=True\n",
    "    while running:\n",
    "        guess = int(input(\"Guess a number between 1 and 100.\"))\n",
    "        \n",
    "        if guess == number:\n",
    "            running = False\n",
    "            again = input(\"Winner! Do you want to play again? (y/n?) \")\n",
    "            if again == \"y\":\n",
    "                hilow_game()\n",
    "            if again == \"n\":\n",
    "                print(\"Thanks for playing!\")\n",
    "                break\n",
    "        if guess < number:\n",
    "            print(\"Higher\")\n",
    "            if True:\n",
    "                guesses+1\n",
    "        if guess > number:\n",
    "            print(\"Lower\")\n",
    "            if True:\n",
    "                guesses+1\n",
    "        if guesses==10:\n",
    "            now = input(\"Winner! Do you want to play again? (y/n?) \")\n",
    "            if now == \"y\":\n",
    "                hilow_game()\n",
    "            if now == \"n\":\n",
    "                print(\"Thanks for playing!\")\n",
    "                break\n",
    "            \n",
    "            \n",
    "      \n",
    "            "
   ]
  },
  {
   "cell_type": "code",
   "execution_count": null,
   "metadata": {
    "scrolled": true
   },
   "outputs": [
    {
     "name": "stdout",
     "output_type": "stream",
     "text": [
      "Guess a number between 1 and 100.44\n",
      "Higher\n",
      "Guess a number between 1 and 100.44\n",
      "Higher\n",
      "Guess a number between 1 and 100.44\n",
      "Higher\n",
      "Guess a number between 1 and 100.44\n",
      "Higher\n",
      "Guess a number between 1 and 100.44\n",
      "Higher\n",
      "Guess a number between 1 and 100.44\n",
      "Higher\n",
      "Guess a number between 1 and 100.44\n",
      "Higher\n",
      "Guess a number between 1 and 100.44\n",
      "Higher\n",
      "Guess a number between 1 and 100.44\n",
      "Higher\n",
      "Guess a number between 1 and 100.44\n",
      "Higher\n",
      "Guess a number between 1 and 100.44\n",
      "Higher\n"
     ]
    }
   ],
   "source": [
    "hilow_game()"
   ]
  },
  {
   "cell_type": "code",
   "execution_count": null,
   "metadata": {},
   "outputs": [],
   "source": []
  }
 ],
 "metadata": {
  "kernelspec": {
   "display_name": "Python 3",
   "language": "python",
   "name": "python3"
  },
  "language_info": {
   "codemirror_mode": {
    "name": "ipython",
    "version": 3
   },
   "file_extension": ".py",
   "mimetype": "text/x-python",
   "name": "python",
   "nbconvert_exporter": "python",
   "pygments_lexer": "ipython3",
   "version": "3.7.4"
  }
 },
 "nbformat": 4,
 "nbformat_minor": 2
}
