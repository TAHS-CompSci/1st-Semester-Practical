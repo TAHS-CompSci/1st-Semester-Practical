{
 "cells": [
  {
   "cell_type": "code",
   "execution_count": 2,
   "metadata": {},
   "outputs": [
    {
     "data": {
      "text/plain": [
       "'\\nprojectName.py\\nProgrammer: Viola DeMott\\nSemester practical\\n'"
      ]
     },
     "execution_count": 2,
     "metadata": {},
     "output_type": "execute_result"
    }
   ],
   "source": [
    "\"\"\"\n",
    "projectName.py\n",
    "Programmer: Viola DeMott\n",
    "Semester practical\n",
    "\"\"\""
   ]
  },
  {
   "cell_type": "code",
   "execution_count": 6,
   "metadata": {},
   "outputs": [],
   "source": [
    "import random\n",
    "def hilo_game(guess):\n",
    "    number = random.randint(1,100)\n",
    "   \n",
    "    if guess <= number:\n",
    "        print (guess , \" is too low\" )\n",
    "    elif guess == number:\n",
    "        print('winner')\n",
    "    else:\n",
    "        print(guess, 'is too high')"
   ]
  },
  {
   "cell_type": "code",
   "execution_count": 17,
   "metadata": {},
   "outputs": [
    {
     "ename": "SyntaxError",
     "evalue": "unexpected EOF while parsing (<ipython-input-17-68efe085b6d0>, line 1)",
     "output_type": "error",
     "traceback": [
      "\u001b[1;36m  File \u001b[1;32m\"<ipython-input-17-68efe085b6d0>\"\u001b[1;36m, line \u001b[1;32m1\u001b[0m\n\u001b[1;33m    hilo_game(89\u001b[0m\n\u001b[1;37m                ^\u001b[0m\n\u001b[1;31mSyntaxError\u001b[0m\u001b[1;31m:\u001b[0m unexpected EOF while parsing\n"
     ]
    }
   ],
   "source": [
    "hilo_game(89"
   ]
  },
  {
   "cell_type": "code",
   "execution_count": 18,
   "metadata": {},
   "outputs": [],
   "source": [
    "import random\n",
    "def hilow_game():\n",
    "    number = random.randint(1,100)\n",
    "    running=True\n",
    "    while running:\n",
    "        guess = int(input(\"Guess a number between 1 and 100.\"))\n",
    "        if guess == number:\n",
    "            running = False\n",
    "            again = input(\"Winner! Do you want to play again? (y/n?) \")\n",
    "            if again == \"y\":\n",
    "                hilow_game()\n",
    "            if again == \"n\":\n",
    "                print(\"Thanks for playing!\")\n",
    "                break\n",
    "        if guess < number:\n",
    "            print(\"Higher\")\n",
    "        if guess > number:\n",
    "            print(\"Lower\")\n",
    "                "
   ]
  },
  {
   "cell_type": "code",
   "execution_count": null,
   "metadata": {},
   "outputs": [
    {
     "name": "stdout",
     "output_type": "stream",
     "text": [
      "Guess a number between 1 and 100.89\n",
      "Lower\n",
      "Guess a number between 1 and 100.77\n",
      "Lower\n",
      "Guess a number between 1 and 100.65\n",
      "Lower\n",
      "Guess a number between 1 and 100.45\n",
      "Lower\n",
      "Guess a number between 1 and 100.34\n",
      "Higher\n",
      "Guess a number between 1 and 100.37\n",
      "Higher\n",
      "Guess a number between 1 and 100.39\n",
      "Higher\n",
      "Guess a number between 1 and 100.40\n",
      "Higher\n",
      "Guess a number between 1 and 100.43\n",
      "Higher\n",
      "Guess a number between 1 and 100.45\n",
      "Lower\n",
      "Guess a number between 1 and 100.44\n",
      "Winner! Do you want to play again? (y/n?) y\n",
      "Guess a number between 1 and 100.45\n",
      "Lower\n",
      "Guess a number between 1 and 100.30\n",
      "Lower\n",
      "Guess a number between 1 and 100.56\n",
      "Lower\n",
      "Guess a number between 1 and 100.56\n",
      "Lower\n"
     ]
    }
   ],
   "source": [
    "hilow_game()"
   ]
  },
  {
   "cell_type": "code",
   "execution_count": null,
   "metadata": {},
   "outputs": [],
   "source": []
  }
 ],
 "metadata": {
  "kernelspec": {
   "display_name": "Python 3",
   "language": "python",
   "name": "python3"
  }
 },
 "nbformat": 4,
 "nbformat_minor": 2
}
