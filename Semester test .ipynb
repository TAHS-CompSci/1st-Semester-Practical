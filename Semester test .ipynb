{
 "cells": [
  {
   "cell_type": "code",
   "execution_count": 6,
   "metadata": {},
   "outputs": [],
   "source": [
    "import random\n",
    "\n",
    "def HiLo():\n",
    "    number = random.randint(1,100)  \n",
    "    tries=10\n",
    "    guesses= True "
   ]
  },
  {
   "cell_type": "code",
   "execution_count": 4,
   "metadata": {},
   "outputs": [
    {
     "name": "stdout",
     "output_type": "stream",
     "text": [
      "Guess my number: 0\n",
      "Sorry thats too high\n",
      "tires: 9\n",
      "0\n"
     ]
    }
   ],
   "source": [
    "HiLo()"
   ]
  },
  {
   "cell_type": "code",
   "execution_count": null,
   "metadata": {},
   "outputs": [],
   "source": [
    "    if tries == 0:\n",
    "        print('Game Over')\n",
    "        print (option) \n",
    "    elif option == ('yes'):\n",
    "        print ('great!')\n",
    "    elif option == ('no'):\n",
    "        print ('Im so sorry come again!')\n",
    "option=input('Want to play again?: ')"
   ]
  },
  {
   "cell_type": "code",
   "execution_count": 5,
   "metadata": {},
   "outputs": [
    {
     "name": "stdout",
     "output_type": "stream",
     "text": [
      "Guess my number: 0\n",
      "Sorry thats too high\n",
      "tires: 9\n",
      "0\n"
     ]
    }
   ],
   "source": [
    "HiLo()"
   ]
  },
  {
   "cell_type": "code",
   "execution_count": 8,
   "metadata": {},
   "outputs": [
    {
     "ename": "IndentationError",
     "evalue": "unindent does not match any outer indentation level (<tokenize>, line 5)",
     "output_type": "error",
     "traceback": [
      "\u001b[1;36m  File \u001b[1;32m\"<tokenize>\"\u001b[1;36m, line \u001b[1;32m5\u001b[0m\n\u001b[1;33m    if guess == number:\u001b[0m\n\u001b[1;37m    ^\u001b[0m\n\u001b[1;31mIndentationError\u001b[0m\u001b[1;31m:\u001b[0m unindent does not match any outer indentation level\n"
     ]
    }
   ],
   "source": [
    "elif guess > number:\n",
    "        tires-=1\n",
    "        print ('Sorry thats too low')\n",
    "        print ('tires:',tries)\n",
    "    if guess == number:\n",
    "        print ('thats correct thats my number!')\n",
    "    elif guess != number:\n",
    "        print "
   ]
  },
  {
   "cell_type": "code",
   "execution_count": 12,
   "metadata": {},
   "outputs": [],
   "source": [
    "import random\n",
    "def test ():\n",
    "    number = random.randint(1,100)  \n",
    "    tries=10\n",
    "    guesses= True \n",
    "    while guesses:\n",
    "        guess=int(input('Guess my number: '))\n",
    "        if guess == number:\n",
    "            guesses = False\n",
    "            multiple = int(input('thats my number alright! Want to play again?: '))\n",
    "            if multiple== 'yes':\n",
    "                test()\n",
    "            if multiple== 'no':\n",
    "                print ('Sorry please come again')\n",
    "        if guess < number:\n",
    "            tries-=1\n",
    "            print ('too low! try again')\n",
    "            print ('tries:', tries)\n",
    "        if guess > number:\n",
    "            tries-=1\n",
    "            print ('thats pretty high!')\n",
    "            print ('tries:', tries)\n",
    "        if tries == 0:\n",
    "            print('Game Over')\n",
    "            print (option) \n",
    "        elif option == ('yes'):\n",
    "            print ('great!')\n",
    "            test()\n",
    "        elif option == ('no'):\n",
    "            print ('Im so sorry come again!')"
   ]
  },
  {
   "cell_type": "markdown",
   "metadata": {},
   "source": [
    "test ()"
   ]
  },
  {
   "cell_type": "markdown",
   "metadata": {},
   "source": [
    "test ()"
   ]
  },
  {
   "cell_type": "code",
   "execution_count": 14,
   "metadata": {},
   "outputs": [
    {
     "name": "stdout",
     "output_type": "stream",
     "text": [
      "Guess my number: 4\n",
      "too low! try again\n",
      "tries: 9\n"
     ]
    },
    {
     "ename": "NameError",
     "evalue": "name 'option' is not defined",
     "output_type": "error",
     "traceback": [
      "\u001b[1;31m---------------------------------------------------------------------------\u001b[0m",
      "\u001b[1;31mNameError\u001b[0m                                 Traceback (most recent call last)",
      "\u001b[1;32m<ipython-input-14-f82ebe3b7508>\u001b[0m in \u001b[0;36m<module>\u001b[1;34m\u001b[0m\n\u001b[1;32m----> 1\u001b[1;33m \u001b[0mtest\u001b[0m \u001b[1;33m(\u001b[0m\u001b[1;33m)\u001b[0m\u001b[1;33m\u001b[0m\u001b[1;33m\u001b[0m\u001b[0m\n\u001b[0m",
      "\u001b[1;32m<ipython-input-12-03798ec3bc1f>\u001b[0m in \u001b[0;36mtest\u001b[1;34m()\u001b[0m\n\u001b[0;32m     24\u001b[0m             \u001b[0mprint\u001b[0m\u001b[1;33m(\u001b[0m\u001b[1;34m'Game Over'\u001b[0m\u001b[1;33m)\u001b[0m\u001b[1;33m\u001b[0m\u001b[1;33m\u001b[0m\u001b[0m\n\u001b[0;32m     25\u001b[0m             \u001b[0mprint\u001b[0m \u001b[1;33m(\u001b[0m\u001b[0moption\u001b[0m\u001b[1;33m)\u001b[0m\u001b[1;33m\u001b[0m\u001b[1;33m\u001b[0m\u001b[0m\n\u001b[1;32m---> 26\u001b[1;33m         \u001b[1;32melif\u001b[0m \u001b[0moption\u001b[0m \u001b[1;33m==\u001b[0m \u001b[1;33m(\u001b[0m\u001b[1;34m'yes'\u001b[0m\u001b[1;33m)\u001b[0m\u001b[1;33m:\u001b[0m\u001b[1;33m\u001b[0m\u001b[1;33m\u001b[0m\u001b[0m\n\u001b[0m\u001b[0;32m     27\u001b[0m             \u001b[0mprint\u001b[0m \u001b[1;33m(\u001b[0m\u001b[1;34m'great!'\u001b[0m\u001b[1;33m)\u001b[0m\u001b[1;33m\u001b[0m\u001b[1;33m\u001b[0m\u001b[0m\n\u001b[0;32m     28\u001b[0m             \u001b[0mtest\u001b[0m\u001b[1;33m(\u001b[0m\u001b[1;33m)\u001b[0m\u001b[1;33m\u001b[0m\u001b[1;33m\u001b[0m\u001b[0m\n",
      "\u001b[1;31mNameError\u001b[0m: name 'option' is not defined"
     ]
    }
   ],
   "source": [
    "test ()"
   ]
  }
 ],
 "metadata": {
  "kernelspec": {
   "display_name": "Python 3",
   "language": "python",
   "name": "python3"
  },
  "language_info": {
   "codemirror_mode": {
    "name": "ipython",
    "version": 3
   },
   "file_extension": ".py",
   "mimetype": "text/x-python",
   "name": "python",
   "nbconvert_exporter": "python",
   "pygments_lexer": "ipython3",
   "version": "3.7.4"
  }
 },
 "nbformat": 4,
 "nbformat_minor": 2
}
