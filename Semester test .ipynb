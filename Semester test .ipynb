{
 "cells": [
  {
   "cell_type": "code",
   "execution_count": 6,
   "metadata": {},
   "outputs": [],
   "source": [
    "import random\n",
    "\n",
    "def HiLo():\n",
    "    number = random.randint(1,100)\n",
    "    guess=input('Guess my number: ')  \n",
    "    tries=10\n",
    "    option=input('Want to play again?: ')\n",
    "    if guess != number:\n",
    "        tries-=1\n",
    "        print ('Sorry thats too high')\n",
    "    else:\n",
    "        print('Thats correct my number is',guess)\n",
    "        \n",
    "    if tries == 0:\n",
    "        print('Game Over')\n",
    "        print(option) \n",
    "    elif option == ('yes'):\n",
    "        print ('great!')\n",
    "    elif option == ('no'):\n",
    "        print ('Im so sorry come again!')"
   ]
  },
  {
   "cell_type": "code",
   "execution_count": null,
   "metadata": {},
   "outputs": [],
   "source": [
    "HiLo()"
   ]
  },
  {
   "cell_type": "code",
   "execution_count": null,
   "metadata": {},
   "outputs": [],
   "source": [
    "import random\n",
    "\n",
    "\n",
    "def HiLo():\n",
    "    number = random.randint(1,100)\n",
    "    guess=input('Guess my number: ')  \n",
    "    tries=10\n",
    "    option=input('Want to play again?: ')\n",
    "    if guess != number:\n",
    "        \n",
    "        print ('Sorry thats too high')\n",
    "    else:\n",
    "        print('Thats correct my number is',guess)\n",
    "        \n",
    "    if tries == 0:\n",
    "        print('Game Over')\n",
    "        print(option) \n",
    "    elif option == ('yes'):\n",
    "        print ('great!')\n",
    "    elif option == ('no'):\n",
    "        print ('Im so sorry come again!')"
   ]
  },
  {
   "cell_type": "code",
   "execution_count": 2,
   "metadata": {},
   "outputs": [
    {
     "name": "stdout",
     "output_type": "stream",
     "text": [
      "Guess my number: 2\n",
      "Want to play again?: yes\n",
      "Sorry thats too high\n",
      "great!\n"
     ]
    }
   ],
   "source": [
    "HiLo()"
   ]
  }
 ],
 "metadata": {
  "kernelspec": {
   "display_name": "Python 3",
   "language": "python",
   "name": "python3"
  },
  "language_info": {
   "codemirror_mode": {
    "name": "ipython",
    "version": 3
   },
   "file_extension": ".py",
   "mimetype": "text/x-python",
   "name": "python",
   "nbconvert_exporter": "python",
   "pygments_lexer": "ipython3",
   "version": "3.7.4"
  }
 },
 "nbformat": 4,
 "nbformat_minor": 2
}
