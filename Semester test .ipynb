{
 "cells": [
  {
   "cell_type": "code",
   "execution_count": 6,
   "metadata": {},
   "outputs": [],
   "source": [
    "import random\n",
    "\n",
    "def HiLo():\n",
    "    number = random.randint(1,100)  \n",
    "    tries=10\n",
    "    guesses= True "
   ]
  },
  {
   "cell_type": "code",
   "execution_count": 4,
   "metadata": {},
   "outputs": [
    {
     "name": "stdout",
     "output_type": "stream",
     "text": [
      "Guess my number: 0\n",
      "Sorry thats too high\n",
      "tires: 9\n",
      "0\n"
     ]
    }
   ],
   "source": [
    "HiLo()"
   ]
  },
  {
   "cell_type": "code",
   "execution_count": null,
   "metadata": {},
   "outputs": [],
   "source": [
    "    if tries == 0:\n",
    "        print('Game Over')\n",
    "        print (option) \n",
    "    elif option == ('yes'):\n",
    "        print ('great!')\n",
    "    elif option == ('no'):\n",
    "        print ('Im so sorry come again!')\n",
    "option=input('Want to play again?: ')"
   ]
  },
  {
   "cell_type": "code",
   "execution_count": 5,
   "metadata": {},
   "outputs": [
    {
     "name": "stdout",
     "output_type": "stream",
     "text": [
      "Guess my number: 0\n",
      "Sorry thats too high\n",
      "tires: 9\n",
      "0\n"
     ]
    }
   ],
   "source": [
    "HiLo()"
   ]
  },
  {
   "cell_type": "code",
   "execution_count": 8,
   "metadata": {},
   "outputs": [
    {
     "ename": "IndentationError",
     "evalue": "unindent does not match any outer indentation level (<tokenize>, line 5)",
     "output_type": "error",
     "traceback": [
      "\u001b[1;36m  File \u001b[1;32m\"<tokenize>\"\u001b[1;36m, line \u001b[1;32m5\u001b[0m\n\u001b[1;33m    if guess == number:\u001b[0m\n\u001b[1;37m    ^\u001b[0m\n\u001b[1;31mIndentationError\u001b[0m\u001b[1;31m:\u001b[0m unindent does not match any outer indentation level\n"
     ]
    }
   ],
   "source": [
    "elif guess > number:\n",
    "        tires-=1\n",
    "        print ('Sorry thats too low')\n",
    "        print ('tires:',tries)\n",
    "    if guess == number:\n",
    "        print ('thats correct thats my number!')\n",
    "    elif guess != number:\n",
    "        print "
   ]
  },
  {
   "cell_type": "code",
   "execution_count": 5,
   "metadata": {},
   "outputs": [],
   "source": [
    "import random\n",
    "number = random.randint(1,100)\n",
    "def HiLo():\n",
    "    tries=10\n",
    "    guesses= True \n",
    "    while guesses:\n",
    "        guess=int(input('Guess my number: '))\n",
    "        if guess == number:\n",
    "            guesses = False\n",
    "            multiple = input('thats my number alright! Want to play again?: ')\n",
    "            if multiple== 'yes':\n",
    "                HiLo()\n",
    "            if multiple== 'no':\n",
    "                print ('Sorry please come again')\n",
    "                break\n",
    "        if guess < number:\n",
    "            tries-=1    \n",
    "            if tries == 0:\n",
    "                print('Game Over')\n",
    "                option=input('Want to play again?: ')\n",
    "                if option == ('yes'):\n",
    "                    print ('great!')\n",
    "                    HiLo()\n",
    "                if option == ('no'):\n",
    "                    print ('Im so sorry come again!')\n",
    "                    break\n",
    "                guesses = False \n",
    "            print ('too low! try again')\n",
    "            print ('tries:', tries)\n",
    "        if guess > number:\n",
    "            tries-=1\n",
    "            if tries == 0:\n",
    "                print('Game Over')\n",
    "                option=input('Want to play again?: ')\n",
    "                if option == ('yes'):\n",
    "                    print ('great!')\n",
    "                    Hilo()\n",
    "                if option == ('no'):\n",
    "                    print ('Im so sorry come again!')\n",
    "                    break\n",
    "                guesses = False \n",
    "            print ('thats pretty high!')\n",
    "            print ('tries:', tries)"
   ]
  },
  {
   "cell_type": "markdown",
   "metadata": {},
   "source": [
    "test ()"
   ]
  },
  {
   "cell_type": "markdown",
   "metadata": {},
   "source": [
    "test ()"
   ]
  },
  {
   "cell_type": "markdown",
   "metadata": {},
   "source": []
  },
  {
   "cell_type": "code",
   "execution_count": 6,
   "metadata": {},
   "outputs": [
    {
     "name": "stdout",
     "output_type": "stream",
     "text": [
      "Guess my number: 88\n",
      "thats pretty high!\n",
      "tries: 9\n",
      "Guess my number: 55\n",
      "too low! try again\n",
      "tries: 8\n",
      "Guess my number: 66\n",
      "too low! try again\n",
      "tries: 7\n",
      "Guess my number: 77\n",
      "too low! try again\n",
      "tries: 6\n",
      "Guess my number: 80\n",
      "too low! try again\n",
      "tries: 5\n",
      "Guess my number: 85\n",
      "thats my number alright! Want to play again?: yes\n",
      "Guess my number: 44\n",
      "too low! try again\n",
      "tries: 9\n",
      "Guess my number: 2\n",
      "too low! try again\n",
      "tries: 8\n",
      "Guess my number: 2\n",
      "too low! try again\n",
      "tries: 7\n",
      "Guess my number: 22\n",
      "too low! try again\n",
      "tries: 6\n",
      "Guess my number: 2\n",
      "too low! try again\n",
      "tries: 5\n",
      "Guess my number: 2\n",
      "too low! try again\n",
      "tries: 4\n",
      "Guess my number: 85\n",
      "thats my number alright! Want to play again?: no\n",
      "Sorry please come again\n"
     ]
    }
   ],
   "source": [
    "HiLo()"
   ]
  }
 ],
 "metadata": {
  "kernelspec": {
   "display_name": "Python 3",
   "language": "python",
   "name": "python3"
  }
 },
 "nbformat": 4,
 "nbformat_minor": 2
}
